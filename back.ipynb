{
 "cells": [
  {
   "cell_type": "code",
   "execution_count": 5,
   "metadata": {},
   "outputs": [
    {
     "name": "stderr",
     "output_type": "stream",
     "text": [
      "Tuesday, October 01, 2019 03:17:53 PM IST INFO: Starting Backtest for ba from 2019-09-24 09:30:00 to 2019-09-24 15:30:00 with initial capital = 100000\n",
      "Tuesday, October 01, 2019 03:17:56 PM IST INFO: Received Signals from ba\n"
     ]
    }
   ],
   "source": [
    "from libkloudtrader.algorithm import *\n",
    "import libkloudtrader.analysis as analysis\n",
    "import pandas as pd\n",
    "import numpy as np\n",
    "\n",
    "\n",
    "\n",
    "def ba(backtest,data):\n",
    "    '''\n",
    "    data['high']=data.close.shift(1).rolling(window=5).max()\n",
    "    data['low']=data.close.shift(1).rolling(window=5).min()\n",
    "    data['avg']=analysis.ma(data.close,5)\n",
    "    buy=(data.close>data.high)\n",
    "    sell=(data.close<data.avg)\n",
    "    #short=(data.close<data.low)\n",
    "    #cover=(data.close>data.avg)\n",
    "    if buy.tail(1).bool():\n",
    "        backtest.buy(5)\n",
    "    elif sell.tail(1).bool():\n",
    "        backtest.sell(5)\n",
    "\n",
    "    '''\n",
    "    pass\n",
    "    #rets=analysis.daily_returns(data.close)\n",
    "    #data['volatility']=analysis.moving_volatility(rets,1)\n",
    "    #data['slip']=data.high-data.close\n",
    "   \n",
    "\n",
    "\n",
    "    \n",
    "\n",
    "run_backtest(ba,['AAPL'],data=\"US_STOCKS_ohlcv\",start='2019-09-24 09:30:00',end='2019-09-24 15:30:00',data_interval='15m')"
   ]
  },
  {
   "cell_type": "code",
   "execution_count": null,
   "metadata": {},
   "outputs": [],
   "source": []
  }
 ],
 "metadata": {
  "kernelspec": {
   "display_name": "Python 3",
   "language": "python",
   "name": "python3"
  },
  "language_info": {
   "codemirror_mode": {
    "name": "ipython",
    "version": 3
   },
   "file_extension": ".py",
   "mimetype": "text/x-python",
   "name": "python",
   "nbconvert_exporter": "python",
   "pygments_lexer": "ipython3",
   "version": "3.7.4"
  }
 },
 "nbformat": 4,
 "nbformat_minor": 4
}
